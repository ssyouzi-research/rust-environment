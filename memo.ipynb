{
 "cells": [
  {
   "cell_type": "markdown",
   "id": "64a127e4-3364-4ca3-bc76-3255f6cad753",
   "metadata": {},
   "source": [
    "## Rustコードを試してみる\n",
    "\n",
    "- [awslabs/aws-sdk-rust](https://github.com/awslabs/aws-sdk-rust)"
   ]
  },
  {
   "cell_type": "code",
   "execution_count": 2,
   "id": "bb5aaaee-e1cd-4f8c-9275-2db69716c1c1",
   "metadata": {
    "vscode": {
     "languageId": "rust"
    }
   },
   "outputs": [
    {
     "name": "stdout",
     "output_type": "stream",
     "text": [
      "Hello, World!\n"
     ]
    }
   ],
   "source": [
    "println!(\"Hello, World!\");"
   ]
  },
  {
   "cell_type": "code",
   "execution_count": 2,
   "id": "b56cba9b",
   "metadata": {
    "vscode": {
     "languageId": "rust"
    }
   },
   "outputs": [],
   "source": [
    ":dep tokio = { version = \"1\", features = [\"full\"] }\n",
    ":dep aws-config = { version= \"1.8.8\", features = [\"behavior-version-latest\"] }\n",
    ":dep aws-sdk-s3 = \"1.108.0\"\n"
   ]
  },
  {
   "cell_type": "markdown",
   "id": "390f5304",
   "metadata": {},
   "source": [
    "## バケット一覧を取得"
   ]
  },
  {
   "cell_type": "code",
   "execution_count": null,
   "id": "21520a17",
   "metadata": {
    "vscode": {
     "languageId": "rust"
    }
   },
   "outputs": [],
   "source": [
    "use aws_sdk_s3 as s3;\n",
    "\n",
    "#[tokio::main]\n",
    "async fn main() -> Result<(), aws_sdk_s3::Error> {\n",
    "    let config = aws_config::defaults(aws_config::BehaviorVersion::latest())\n",
    "        .region(aws_sdk_s3::config::Region::new(\"ap-northeast-1\"))\n",
    "        .profile_name(\"YOUR AWS PROFILE\")\n",
    "        .load()\n",
    "        .await;\n",
    "    let client = s3::Client::new(&config);\n",
    "\n",
    "    let mut buckets = client.list_buckets().into_paginator().send();\n",
    "\n",
    "    let mut num_buckets = 0;\n",
    "    let mut in_region = 0;\n",
    "\n",
    "    while let Some(Ok(output)) = buckets.next().await {\n",
    "        for bucket in output.buckets() {\n",
    "            num_buckets += 1;\n",
    "            println!(\"{}\", bucket.name().unwrap_or_default());\n",
    "        }\n",
    "    }\n",
    "\n",
    "    Ok(())\n",
    "}\n",
    "\n",
    "main();\n"
   ]
  }
 ],
 "metadata": {
  "kernelspec": {
   "display_name": "Rust",
   "language": "rust",
   "name": "rust"
  },
  "language_info": {
   "codemirror_mode": "rust",
   "file_extension": ".rs",
   "mimetype": "text/rust",
   "name": "Rust",
   "pygment_lexer": "rust",
   "version": ""
  }
 },
 "nbformat": 4,
 "nbformat_minor": 5
}
